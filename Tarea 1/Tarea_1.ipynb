{
  "nbformat": 4,
  "nbformat_minor": 0,
  "metadata": {
    "colab": {
      "provenance": []
    },
    "kernelspec": {
      "name": "python3",
      "display_name": "Python 3"
    },
    "language_info": {
      "name": "python"
    }
  },
  "cells": [
    {
      "cell_type": "code",
      "source": [
        "import pandas as pd\n"
      ],
      "metadata": {
        "id": "fdm6_cPn9e3g"
      },
      "execution_count": 1,
      "outputs": []
    },
    {
      "cell_type": "code",
      "execution_count": 14,
      "metadata": {
        "colab": {
          "base_uri": "https://localhost:8080/",
          "height": 802
        },
        "id": "4GBfeeGH9N5X",
        "outputId": "14b3a1b7-fe94-4609-df99-387630632f3c"
      },
      "outputs": [
        {
          "output_type": "execute_result",
          "data": {
            "text/plain": [
              "                            Correos\n",
              "0    carrillocl2019@licifug.ugto.mx\n",
              "1          veronicamc1223@gmail.com\n",
              "2     alvarezcu2019@licifug.ugto.mx\n",
              "3             uridedomjua@gmail.com\n",
              "4   hernandeztj2019@licifug.ugto.mx\n",
              "5             serart_98@hotmail.com\n",
              "6                bgbg5530@gmail.com\n",
              "7       perritofaldero_33@gmail.com\n",
              "8      perezrj2019@licifug.ugto.mx \n",
              "9         cd.rodriguezlicea@ugto.mx\n",
              "10                    pau@gmail.com\n",
              "11      lemusae2019@licifug.ugto.mx\n",
              "12  gagruxeuwoiddi-1547@yopmail.com\n",
              "13  yeucroudussudu-8941@yopmail.com\n",
              "14         username1284@outlook.com\n",
              "15              cheels.08@gmail.com\n",
              "16    yael_baca@hotmail.com.mlemmmm\n",
              "17      a.escobedo@hotmail.com mlem\n",
              "18    e.martinezmiranda@hotmail.com\n",
              "19           se.lopezlazaro@ugto.mx\n",
              "20        ca.gonzalezcorona@ugto.mx\n",
              "21    jimenezsa2018@licifug.ugto.mx\n",
              "22       silviamendozza15@gmail.com\n",
              "23        vm.gonzalezaguayo@ugto.mx"
            ],
            "text/html": [
              "\n",
              "  <div id=\"df-544d875d-6762-4c70-bc3c-aa9b71a5f68c\">\n",
              "    <div class=\"colab-df-container\">\n",
              "      <div>\n",
              "<style scoped>\n",
              "    .dataframe tbody tr th:only-of-type {\n",
              "        vertical-align: middle;\n",
              "    }\n",
              "\n",
              "    .dataframe tbody tr th {\n",
              "        vertical-align: top;\n",
              "    }\n",
              "\n",
              "    .dataframe thead th {\n",
              "        text-align: right;\n",
              "    }\n",
              "</style>\n",
              "<table border=\"1\" class=\"dataframe\">\n",
              "  <thead>\n",
              "    <tr style=\"text-align: right;\">\n",
              "      <th></th>\n",
              "      <th>Correos</th>\n",
              "    </tr>\n",
              "  </thead>\n",
              "  <tbody>\n",
              "    <tr>\n",
              "      <th>0</th>\n",
              "      <td>carrillocl2019@licifug.ugto.mx</td>\n",
              "    </tr>\n",
              "    <tr>\n",
              "      <th>1</th>\n",
              "      <td>veronicamc1223@gmail.com</td>\n",
              "    </tr>\n",
              "    <tr>\n",
              "      <th>2</th>\n",
              "      <td>alvarezcu2019@licifug.ugto.mx</td>\n",
              "    </tr>\n",
              "    <tr>\n",
              "      <th>3</th>\n",
              "      <td>uridedomjua@gmail.com</td>\n",
              "    </tr>\n",
              "    <tr>\n",
              "      <th>4</th>\n",
              "      <td>hernandeztj2019@licifug.ugto.mx</td>\n",
              "    </tr>\n",
              "    <tr>\n",
              "      <th>5</th>\n",
              "      <td>serart_98@hotmail.com</td>\n",
              "    </tr>\n",
              "    <tr>\n",
              "      <th>6</th>\n",
              "      <td>bgbg5530@gmail.com</td>\n",
              "    </tr>\n",
              "    <tr>\n",
              "      <th>7</th>\n",
              "      <td>perritofaldero_33@gmail.com</td>\n",
              "    </tr>\n",
              "    <tr>\n",
              "      <th>8</th>\n",
              "      <td>perezrj2019@licifug.ugto.mx</td>\n",
              "    </tr>\n",
              "    <tr>\n",
              "      <th>9</th>\n",
              "      <td>cd.rodriguezlicea@ugto.mx</td>\n",
              "    </tr>\n",
              "    <tr>\n",
              "      <th>10</th>\n",
              "      <td>pau@gmail.com</td>\n",
              "    </tr>\n",
              "    <tr>\n",
              "      <th>11</th>\n",
              "      <td>lemusae2019@licifug.ugto.mx</td>\n",
              "    </tr>\n",
              "    <tr>\n",
              "      <th>12</th>\n",
              "      <td>gagruxeuwoiddi-1547@yopmail.com</td>\n",
              "    </tr>\n",
              "    <tr>\n",
              "      <th>13</th>\n",
              "      <td>yeucroudussudu-8941@yopmail.com</td>\n",
              "    </tr>\n",
              "    <tr>\n",
              "      <th>14</th>\n",
              "      <td>username1284@outlook.com</td>\n",
              "    </tr>\n",
              "    <tr>\n",
              "      <th>15</th>\n",
              "      <td>cheels.08@gmail.com</td>\n",
              "    </tr>\n",
              "    <tr>\n",
              "      <th>16</th>\n",
              "      <td>yael_baca@hotmail.com.mlemmmm</td>\n",
              "    </tr>\n",
              "    <tr>\n",
              "      <th>17</th>\n",
              "      <td>a.escobedo@hotmail.com mlem</td>\n",
              "    </tr>\n",
              "    <tr>\n",
              "      <th>18</th>\n",
              "      <td>e.martinezmiranda@hotmail.com</td>\n",
              "    </tr>\n",
              "    <tr>\n",
              "      <th>19</th>\n",
              "      <td>se.lopezlazaro@ugto.mx</td>\n",
              "    </tr>\n",
              "    <tr>\n",
              "      <th>20</th>\n",
              "      <td>ca.gonzalezcorona@ugto.mx</td>\n",
              "    </tr>\n",
              "    <tr>\n",
              "      <th>21</th>\n",
              "      <td>jimenezsa2018@licifug.ugto.mx</td>\n",
              "    </tr>\n",
              "    <tr>\n",
              "      <th>22</th>\n",
              "      <td>silviamendozza15@gmail.com</td>\n",
              "    </tr>\n",
              "    <tr>\n",
              "      <th>23</th>\n",
              "      <td>vm.gonzalezaguayo@ugto.mx</td>\n",
              "    </tr>\n",
              "  </tbody>\n",
              "</table>\n",
              "</div>\n",
              "      <button class=\"colab-df-convert\" onclick=\"convertToInteractive('df-544d875d-6762-4c70-bc3c-aa9b71a5f68c')\"\n",
              "              title=\"Convert this dataframe to an interactive table.\"\n",
              "              style=\"display:none;\">\n",
              "        \n",
              "  <svg xmlns=\"http://www.w3.org/2000/svg\" height=\"24px\"viewBox=\"0 0 24 24\"\n",
              "       width=\"24px\">\n",
              "    <path d=\"M0 0h24v24H0V0z\" fill=\"none\"/>\n",
              "    <path d=\"M18.56 5.44l.94 2.06.94-2.06 2.06-.94-2.06-.94-.94-2.06-.94 2.06-2.06.94zm-11 1L8.5 8.5l.94-2.06 2.06-.94-2.06-.94L8.5 2.5l-.94 2.06-2.06.94zm10 10l.94 2.06.94-2.06 2.06-.94-2.06-.94-.94-2.06-.94 2.06-2.06.94z\"/><path d=\"M17.41 7.96l-1.37-1.37c-.4-.4-.92-.59-1.43-.59-.52 0-1.04.2-1.43.59L10.3 9.45l-7.72 7.72c-.78.78-.78 2.05 0 2.83L4 21.41c.39.39.9.59 1.41.59.51 0 1.02-.2 1.41-.59l7.78-7.78 2.81-2.81c.8-.78.8-2.07 0-2.86zM5.41 20L4 18.59l7.72-7.72 1.47 1.35L5.41 20z\"/>\n",
              "  </svg>\n",
              "      </button>\n",
              "      \n",
              "  <style>\n",
              "    .colab-df-container {\n",
              "      display:flex;\n",
              "      flex-wrap:wrap;\n",
              "      gap: 12px;\n",
              "    }\n",
              "\n",
              "    .colab-df-convert {\n",
              "      background-color: #E8F0FE;\n",
              "      border: none;\n",
              "      border-radius: 50%;\n",
              "      cursor: pointer;\n",
              "      display: none;\n",
              "      fill: #1967D2;\n",
              "      height: 32px;\n",
              "      padding: 0 0 0 0;\n",
              "      width: 32px;\n",
              "    }\n",
              "\n",
              "    .colab-df-convert:hover {\n",
              "      background-color: #E2EBFA;\n",
              "      box-shadow: 0px 1px 2px rgba(60, 64, 67, 0.3), 0px 1px 3px 1px rgba(60, 64, 67, 0.15);\n",
              "      fill: #174EA6;\n",
              "    }\n",
              "\n",
              "    [theme=dark] .colab-df-convert {\n",
              "      background-color: #3B4455;\n",
              "      fill: #D2E3FC;\n",
              "    }\n",
              "\n",
              "    [theme=dark] .colab-df-convert:hover {\n",
              "      background-color: #434B5C;\n",
              "      box-shadow: 0px 1px 3px 1px rgba(0, 0, 0, 0.15);\n",
              "      filter: drop-shadow(0px 1px 2px rgba(0, 0, 0, 0.3));\n",
              "      fill: #FFFFFF;\n",
              "    }\n",
              "  </style>\n",
              "\n",
              "      <script>\n",
              "        const buttonEl =\n",
              "          document.querySelector('#df-544d875d-6762-4c70-bc3c-aa9b71a5f68c button.colab-df-convert');\n",
              "        buttonEl.style.display =\n",
              "          google.colab.kernel.accessAllowed ? 'block' : 'none';\n",
              "\n",
              "        async function convertToInteractive(key) {\n",
              "          const element = document.querySelector('#df-544d875d-6762-4c70-bc3c-aa9b71a5f68c');\n",
              "          const dataTable =\n",
              "            await google.colab.kernel.invokeFunction('convertToInteractive',\n",
              "                                                     [key], {});\n",
              "          if (!dataTable) return;\n",
              "\n",
              "          const docLinkHtml = 'Like what you see? Visit the ' +\n",
              "            '<a target=\"_blank\" href=https://colab.research.google.com/notebooks/data_table.ipynb>data table notebook</a>'\n",
              "            + ' to learn more about interactive tables.';\n",
              "          element.innerHTML = '';\n",
              "          dataTable['output_type'] = 'display_data';\n",
              "          await google.colab.output.renderOutput(dataTable, element);\n",
              "          const docLink = document.createElement('div');\n",
              "          docLink.innerHTML = docLinkHtml;\n",
              "          element.appendChild(docLink);\n",
              "        }\n",
              "      </script>\n",
              "    </div>\n",
              "  </div>\n",
              "  "
            ]
          },
          "metadata": {},
          "execution_count": 14
        }
      ],
      "source": [
        "f = pd.read_excel(\"lista_correos.xlsx\", header = None) #Abrimos el archivo con el comando \"open\" seguido entre comillas el nombre\n",
        "# seguido despues de una coma y entre comillas \"r\" para que solo lo lea\n",
        "f.columns = ['Correos'] #strings siempre entre comillas\n",
        "f\n"
      ]
    },
    {
      "cell_type": "code",
      "source": [
        "Listas_correo  = []\n",
        "for correo in f.Correos:\n",
        "  print(correo)\n",
        "  print(correo.split('@'))\n",
        "  Listas_correo.append(correo.split('@'))\n",
        "print(Listas_correo)\n",
        "\n",
        "\n",
        "\n"
      ],
      "metadata": {
        "colab": {
          "base_uri": "https://localhost:8080/"
        },
        "id": "7isHasSz-5VC",
        "outputId": "12c08cc7-e174-4cf2-82ba-2a3539956b42"
      },
      "execution_count": 19,
      "outputs": [
        {
          "output_type": "stream",
          "name": "stdout",
          "text": [
            "carrillocl2019@licifug.ugto.mx\n",
            "['carrillocl2019', 'licifug.ugto.mx']\n",
            "veronicamc1223@gmail.com\n",
            "['veronicamc1223', 'gmail.com']\n",
            "alvarezcu2019@licifug.ugto.mx\n",
            "['alvarezcu2019', 'licifug.ugto.mx']\n",
            "uridedomjua@gmail.com\n",
            "['uridedomjua', 'gmail.com']\n",
            "hernandeztj2019@licifug.ugto.mx\n",
            "['hernandeztj2019', 'licifug.ugto.mx']\n",
            "serart_98@hotmail.com\n",
            "['serart_98', 'hotmail.com']\n",
            "bgbg5530@gmail.com\n",
            "['bgbg5530', 'gmail.com']\n",
            "perritofaldero_33@gmail.com\n",
            "['perritofaldero_33', 'gmail.com']\n",
            "perezrj2019@licifug.ugto.mx \n",
            "['perezrj2019', 'licifug.ugto.mx ']\n",
            "cd.rodriguezlicea@ugto.mx\n",
            "['cd.rodriguezlicea', 'ugto.mx']\n",
            "pau@gmail.com\n",
            "['pau', 'gmail.com']\n",
            "lemusae2019@licifug.ugto.mx\n",
            "['lemusae2019', 'licifug.ugto.mx']\n",
            "gagruxeuwoiddi-1547@yopmail.com\n",
            "['gagruxeuwoiddi-1547', 'yopmail.com']\n",
            "yeucroudussudu-8941@yopmail.com\n",
            "['yeucroudussudu-8941', 'yopmail.com']\n",
            "username1284@outlook.com\n",
            "['username1284', 'outlook.com']\n",
            "cheels.08@gmail.com\n",
            "['cheels.08', 'gmail.com']\n",
            "yael_baca@hotmail.com.mlemmmm\n",
            "['yael_baca', 'hotmail.com.mlemmmm']\n",
            "a.escobedo@hotmail.com mlem\n",
            "['a.escobedo', 'hotmail.com mlem']\n",
            "e.martinezmiranda@hotmail.com\n",
            "['e.martinezmiranda', 'hotmail.com']\n",
            "se.lopezlazaro@ugto.mx\n",
            "['se.lopezlazaro', 'ugto.mx']\n",
            "ca.gonzalezcorona@ugto.mx\n",
            "['ca.gonzalezcorona', 'ugto.mx']\n",
            "jimenezsa2018@licifug.ugto.mx\n",
            "['jimenezsa2018', 'licifug.ugto.mx']\n",
            "silviamendozza15@gmail.com\n",
            "['silviamendozza15', 'gmail.com']\n",
            "vm.gonzalezaguayo@ugto.mx\n",
            "['vm.gonzalezaguayo', 'ugto.mx']\n",
            "[['carrillocl2019', 'licifug.ugto.mx'], ['veronicamc1223', 'gmail.com'], ['alvarezcu2019', 'licifug.ugto.mx'], ['uridedomjua', 'gmail.com'], ['hernandeztj2019', 'licifug.ugto.mx'], ['serart_98', 'hotmail.com'], ['bgbg5530', 'gmail.com'], ['perritofaldero_33', 'gmail.com'], ['perezrj2019', 'licifug.ugto.mx '], ['cd.rodriguezlicea', 'ugto.mx'], ['pau', 'gmail.com'], ['lemusae2019', 'licifug.ugto.mx'], ['gagruxeuwoiddi-1547', 'yopmail.com'], ['yeucroudussudu-8941', 'yopmail.com'], ['username1284', 'outlook.com'], ['cheels.08', 'gmail.com'], ['yael_baca', 'hotmail.com.mlemmmm'], ['a.escobedo', 'hotmail.com mlem'], ['e.martinezmiranda', 'hotmail.com'], ['se.lopezlazaro', 'ugto.mx'], ['ca.gonzalezcorona', 'ugto.mx'], ['jimenezsa2018', 'licifug.ugto.mx'], ['silviamendozza15', 'gmail.com'], ['vm.gonzalezaguayo', 'ugto.mx']]\n"
          ]
        }
      ]
    },
    {
      "cell_type": "code",
      "source": [
        "Lista_Dominios = []\n",
        "for prueba in Listas_correo: #La variable prueba viene siendo mi posicion pimaria, en seguida al agregar los cochetes estoy indicado que se imprima la posicion secundaria\n",
        "  print(prueba[1])\n",
        "  Lista_Dominios.append(prueba[1]) #La funcion \"append\" sirve para guardar un elemento de una lista \n",
        "print(Lista_Dominios)\n"
      ],
      "metadata": {
        "colab": {
          "base_uri": "https://localhost:8080/"
        },
        "id": "Q28-R9T7-H6w",
        "outputId": "dd93d445-4880-4ca5-a360-1a3b0a1f572d"
      },
      "execution_count": 30,
      "outputs": [
        {
          "output_type": "stream",
          "name": "stdout",
          "text": [
            "licifug.ugto.mx\n",
            "gmail.com\n",
            "licifug.ugto.mx\n",
            "gmail.com\n",
            "licifug.ugto.mx\n",
            "hotmail.com\n",
            "gmail.com\n",
            "gmail.com\n",
            "licifug.ugto.mx \n",
            "ugto.mx\n",
            "gmail.com\n",
            "licifug.ugto.mx\n",
            "yopmail.com\n",
            "yopmail.com\n",
            "outlook.com\n",
            "gmail.com\n",
            "hotmail.com.mlemmmm\n",
            "hotmail.com mlem\n",
            "hotmail.com\n",
            "ugto.mx\n",
            "ugto.mx\n",
            "licifug.ugto.mx\n",
            "gmail.com\n",
            "ugto.mx\n",
            "['licifug.ugto.mx', 'gmail.com', 'licifug.ugto.mx', 'gmail.com', 'licifug.ugto.mx', 'hotmail.com', 'gmail.com', 'gmail.com', 'licifug.ugto.mx ', 'ugto.mx', 'gmail.com', 'licifug.ugto.mx', 'yopmail.com', 'yopmail.com', 'outlook.com', 'gmail.com', 'hotmail.com.mlemmmm', 'hotmail.com mlem', 'hotmail.com', 'ugto.mx', 'ugto.mx', 'licifug.ugto.mx', 'gmail.com', 'ugto.mx']\n"
          ]
        }
      ]
    },
    {
      "cell_type": "markdown",
      "source": [
        "Lista de dominios Unicos"
      ],
      "metadata": {
        "id": "DE1bFAycHCFc"
      }
    },
    {
      "cell_type": "code",
      "source": [
        "Dominios_Unicos =set(Lista_Dominios) #la funcion set me dara todos los elementos de la lista sin repetirlos\n",
        "print(Dominios_Unicos)\n"
      ],
      "metadata": {
        "colab": {
          "base_uri": "https://localhost:8080/"
        },
        "id": "tqCZzaRpDWd3",
        "outputId": "7bf3fcfc-7c56-4764-849d-1f84df79ce39"
      },
      "execution_count": 32,
      "outputs": [
        {
          "output_type": "stream",
          "name": "stdout",
          "text": [
            "{'ugto.mx', 'hotmail.com', 'licifug.ugto.mx', 'hotmail.com mlem', 'licifug.ugto.mx ', 'outlook.com', 'hotmail.com.mlemmmm', 'yopmail.com', 'gmail.com'}\n"
          ]
        }
      ]
    },
    {
      "cell_type": "markdown",
      "source": [
        "Vocales del documento "
      ],
      "metadata": {
        "id": "GzcbDFvQHPCh"
      }
    },
    {
      "cell_type": "code",
      "source": [
        "Lista_Usuarios = []\n",
        "for prueba in Listas_correo: #La variable prueba viene siendo mi posicion pimaria, en seguida al agregar los cochetes estoy indicado que se imprima la posicion secundaria\n",
        "  print(prueba[0])\n",
        "  Lista_Usuarios.append(prueba[0]) #La funcion \"append\" sirve para guardar un elemento de una lista \n",
        "print(Lista_Usuarios)"
      ],
      "metadata": {
        "colab": {
          "base_uri": "https://localhost:8080/"
        },
        "id": "UTq1vFyBGkEJ",
        "outputId": "8f448934-0752-44ac-92bd-521ce8f3492a"
      },
      "execution_count": 52,
      "outputs": [
        {
          "output_type": "stream",
          "name": "stdout",
          "text": [
            "carrillocl2019\n",
            "veronicamc1223\n",
            "alvarezcu2019\n",
            "uridedomjua\n",
            "hernandeztj2019\n",
            "serart_98\n",
            "bgbg5530\n",
            "perritofaldero_33\n",
            "perezrj2019\n",
            "cd.rodriguezlicea\n",
            "pau\n",
            "lemusae2019\n",
            "gagruxeuwoiddi-1547\n",
            "yeucroudussudu-8941\n",
            "username1284\n",
            "cheels.08\n",
            "yael_baca\n",
            "a.escobedo\n",
            "e.martinezmiranda\n",
            "se.lopezlazaro\n",
            "ca.gonzalezcorona\n",
            "jimenezsa2018\n",
            "silviamendozza15\n",
            "vm.gonzalezaguayo\n",
            "['carrillocl2019', 'veronicamc1223', 'alvarezcu2019', 'uridedomjua', 'hernandeztj2019', 'serart_98', 'bgbg5530', 'perritofaldero_33', 'perezrj2019', 'cd.rodriguezlicea', 'pau', 'lemusae2019', 'gagruxeuwoiddi-1547', 'yeucroudussudu-8941', 'username1284', 'cheels.08', 'yael_baca', 'a.escobedo', 'e.martinezmiranda', 'se.lopezlazaro', 'ca.gonzalezcorona', 'jimenezsa2018', 'silviamendozza15', 'vm.gonzalezaguayo'] \n",
            "\n"
          ]
        }
      ]
    },
    {
      "cell_type": "code",
      "source": [
        "Lista_vocales = ['a', 'e', 'i', 'o', 'u']\n",
        "prueba = \"Hola\"\n",
        "for i in range (0, len(prueba)):\n",
        "  print(prueba[i])\n",
        "  if prueba[i] in Lista_vocales: # hace una comparacion para cada una delas posiciones de la cade prueba con la lista de vocales\n",
        "    print(\"Halle una vocal\")"
      ],
      "metadata": {
        "colab": {
          "base_uri": "https://localhost:8080/"
        },
        "id": "JiEudo5LIDkg",
        "outputId": "715a1825-a7e6-460b-84b2-843cbd217a3f"
      },
      "execution_count": 42,
      "outputs": [
        {
          "output_type": "stream",
          "name": "stdout",
          "text": [
            "H\n",
            "o\n",
            "Halle una vocal\n",
            "l\n",
            "a\n",
            "Halle una vocal\n"
          ]
        }
      ]
    },
    {
      "cell_type": "code",
      "source": [
        "Vocales = 0\n",
        "cantidad_vocales = []\n",
        "for usuario in Lista_Usuarios:\n",
        "  for i in range(0, len(usuario)):\n",
        "    if usuario[i] in Lista_vocales:\n",
        "      #print(usuario[i])\n",
        "      Vocales += 1\n",
        "  print(\"El usuario\", usuario, \"tiene\", Vocales, \"Vocales\")\n",
        "  cantidad_vocales.append(Vocales)\n",
        "  Vocales = 0 "
      ],
      "metadata": {
        "colab": {
          "base_uri": "https://localhost:8080/"
        },
        "id": "EMbNE4wMIonZ",
        "outputId": "d028ddb2-115c-447b-c61f-d5981b12edb4"
      },
      "execution_count": 53,
      "outputs": [
        {
          "output_type": "stream",
          "name": "stdout",
          "text": [
            "El usuario carrillocl2019 tiene 3 Vocales\n",
            "El usuario veronicamc1223 tiene 4 Vocales\n",
            "El usuario alvarezcu2019 tiene 4 Vocales\n",
            "El usuario uridedomjua tiene 6 Vocales\n",
            "El usuario hernandeztj2019 tiene 3 Vocales\n",
            "El usuario serart_98 tiene 2 Vocales\n",
            "El usuario bgbg5530 tiene 0 Vocales\n",
            "El usuario perritofaldero_33 tiene 6 Vocales\n",
            "El usuario perezrj2019 tiene 2 Vocales\n",
            "El usuario cd.rodriguezlicea tiene 7 Vocales\n",
            "El usuario pau tiene 2 Vocales\n",
            "El usuario lemusae2019 tiene 4 Vocales\n",
            "El usuario gagruxeuwoiddi-1547 tiene 7 Vocales\n",
            "El usuario yeucroudussudu-8941 tiene 7 Vocales\n",
            "El usuario username1284 tiene 4 Vocales\n",
            "El usuario cheels.08 tiene 2 Vocales\n",
            "El usuario yael_baca tiene 4 Vocales\n",
            "El usuario a.escobedo tiene 5 Vocales\n",
            "El usuario e.martinezmiranda tiene 7 Vocales\n",
            "El usuario se.lopezlazaro tiene 6 Vocales\n",
            "El usuario ca.gonzalezcorona tiene 7 Vocales\n",
            "El usuario jimenezsa2018 tiene 4 Vocales\n",
            "El usuario silviamendozza15 tiene 6 Vocales\n",
            "El usuario vm.gonzalezaguayo tiene 7 Vocales\n",
            "[3, 4, 4, 6, 3, 2, 0, 6, 2, 7, 2, 4, 7, 7, 4, 2, 4, 5, 7, 6, 7, 4, 6, 7]\n"
          ]
        }
      ]
    },
    {
      "cell_type": "code",
      "source": [
        "with open('Tarea1.txt', 'w') as temp_file:\n",
        "    for i in range(0,len(cantidad_vocales)):\n",
        "        temp_file.write(\"{}, {}\\n\".format(Lista_Usuarios[i], cantidad_vocales[i]))\n",
        "\n",
        "file = open('Tarea1.txt', 'r')\n",
        "print(file.read())"
      ],
      "metadata": {
        "colab": {
          "base_uri": "https://localhost:8080/"
        },
        "id": "I1I9upr8KIoL",
        "outputId": "a36836df-8999-466f-cd5c-cd0e75f53969"
      },
      "execution_count": 60,
      "outputs": [
        {
          "output_type": "stream",
          "name": "stdout",
          "text": [
            "carrillocl2019, 3\n",
            "veronicamc1223, 4\n",
            "alvarezcu2019, 4\n",
            "uridedomjua, 6\n",
            "hernandeztj2019, 3\n",
            "serart_98, 2\n",
            "bgbg5530, 0\n",
            "perritofaldero_33, 6\n",
            "perezrj2019, 2\n",
            "cd.rodriguezlicea, 7\n",
            "pau, 2\n",
            "lemusae2019, 4\n",
            "gagruxeuwoiddi-1547, 7\n",
            "yeucroudussudu-8941, 7\n",
            "username1284, 4\n",
            "cheels.08, 2\n",
            "yael_baca, 4\n",
            "a.escobedo, 5\n",
            "e.martinezmiranda, 7\n",
            "se.lopezlazaro, 6\n",
            "ca.gonzalezcorona, 7\n",
            "jimenezsa2018, 4\n",
            "silviamendozza15, 6\n",
            "vm.gonzalezaguayo, 7\n",
            "\n"
          ]
        }
      ]
    },
    {
      "cell_type": "code",
      "source": [
        "]"
      ],
      "metadata": {
        "id": "rvk7OAPSOwB9"
      },
      "execution_count": null,
      "outputs": []
    }
  ]
}